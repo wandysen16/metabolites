{
 "cells": [
  {
   "cell_type": "code",
   "execution_count": 64,
   "metadata": {},
   "outputs": [
    {
     "name": "stdout",
     "output_type": "stream",
     "text": [
      "[[7755, '46,XY Disorder of Sex Development due to 17-Beta Hydroxysteroid Dehydrogenase Type 3 Deficiency in an Infant of Greek Origin', 'Galli-Tsinopoulou A,', 'J Clin Res Pediatr Endocrinol', '2018', '', '10', '1', '74-78', 'et al.'], [7757, 'Novel mutations of HSD17B3 in three Chinese patients with 46,XY Disorders of Sex Development', 'Yu B,', 'Steroids', '2017', '', '126', '0', '1-6', 'et al.'], [7758, '46,XY disorder of sex development (DSD) due to 17β-hydroxysteroid dehydrogenase type 3 deficiency', 'Mendonca BB,', 'J Steroid Biochem Mol Biol', '2017', '', '165', '0', '79-85', 'et al.'], [7756, 'Substitution mutation C268Y causes 17 beta-hydroxysteroid dehydrogenase 3 deficiency', 'Lindqvist A,', 'J Clin Endocrinol Metab', '2001', '', '86', '2', '921-923', 'Hughes IA, Andersson S'], [7759, '17Beta-hydroxysteroid dehydrogenase-3 deficiency: diagnosis, phenotypic variability, population genetics, and worldwide distrib', 'Boehmer AL,', 'J Clin Endocrinol Metab', '1999', '', '84', '12', '1713-4721', 'et al.']]\n"
     ]
    }
   ],
   "source": [
    "import requests \n",
    "from bs4 import BeautifulSoup as bs    \n",
    "import re\n",
    "import json\n",
    "\n",
    "get_literature=requests.get('https://www.metagene.de/appl/authors.prg?act=getGridData&withLink=1&id_d=1098&dhxr1605281356665=1')\n",
    "\n",
    "\n",
    "literature_data=json.loads(get_literature.content)\n",
    "\n",
    "literatures=[]\n",
    "for row in literature_data['rows']:\n",
    "    lit_id=row[\"id\"]\n",
    "#   clear <a> tag\n",
    "    string=row['data'][0].split(\">\")[1]\n",
    "    title=string.replace(\"</a\",\"\")\n",
    "    author=row['data'][1]\n",
    "    journal=row['data'][2]\n",
    "    year=row['data'][3]\n",
    "    book=row['data'][4]\n",
    "    volume=row['data'][5]\n",
    "    number=row['data'][6]\n",
    "    pages=row['data'][7]\n",
    "    co_aut=row['data'][8]\n",
    "    \n",
    "    literatures.append([lit_id,title,author,journal,year,book,volume,number,pages,co_aut])\n",
    "    \n",
    "print(literatures)\n",
    "\n",
    "# convert lab data to json\n",
    "# literature_data = str(get_literature.content)\n",
    "# literature_data=literature_data.replace('rows', '\"rows\"')\n",
    "# literature_data=literature_data.replace('{id', '{\"id\"')\n",
    "# literature_data=literature_data.replace('data', '\"data\"')\n",
    "# print(literature_data)\n",
    "# literature_data=literature_data[2:] \n",
    "# literature_data=literature_data[:-1]\n",
    "# literature_data=literature_data.encode('utf_8')\n",
    "\n",
    "\n",
    "\n",
    "\n",
    "    \n",
    "\n",
    "\n",
    "    "
   ]
  },
  {
   "cell_type": "code",
   "execution_count": null,
   "metadata": {},
   "outputs": [],
   "source": []
  }
 ],
 "metadata": {
  "kernelspec": {
   "display_name": "Python 3",
   "language": "python",
   "name": "python3"
  },
  "language_info": {
   "codemirror_mode": {
    "name": "ipython",
    "version": 3
   },
   "file_extension": ".py",
   "mimetype": "text/x-python",
   "name": "python",
   "nbconvert_exporter": "python",
   "pygments_lexer": "ipython3",
   "version": "3.8.3"
  }
 },
 "nbformat": 4,
 "nbformat_minor": 4
}
