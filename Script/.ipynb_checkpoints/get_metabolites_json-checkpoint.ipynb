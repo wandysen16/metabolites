{
 "cells": [
  {
   "cell_type": "code",
   "execution_count": 2,
   "metadata": {},
   "outputs": [
    {
     "name": "stdout",
     "output_type": "stream",
     "text": [
      "[]\n"
     ]
    }
   ],
   "source": [
    "import requests \n",
    "from bs4 import BeautifulSoup as bs    \n",
    "import re\n",
    "import json\n",
    "\n",
    "get_normal_data=requests.get('https://www.metagene.de/appl/normal.prg?act=getData&id_d=1098&dhxr1605267281056=1')\n",
    "get_lab_data=requests.get('https://www.metagene.de/v2020/lab.prg?act=getGridData2&id_d=1098&dhxr1605268362441=1')\n",
    "\n",
    "normal_data=json.loads(get_normal_data.content)\n",
    "\n",
    "# convert lab data to json\n",
    "lab_data = str(get_lab_data.content)\n",
    "lab_data=lab_data.replace('rows', '\"rows\"')\n",
    "lab_data=lab_data.replace('{id', '{\"id\"')\n",
    "lab_data=lab_data.replace('data', '\"data\"')\n",
    "lab_data=lab_data[2:] \n",
    "lab_data=lab_data[:-1]\n",
    "lab_data=lab_data.encode('utf_8')\n",
    "\n",
    "\n",
    "lab_data=json.loads(lab_data)\n",
    "\n",
    "    \n",
    "\n",
    "metabolites=[]\n",
    "for row in normal_data['rows']:\n",
    "    metabolite_id=row['id']\n",
    "    name=row['data'][0]\n",
    "    specimen=row['data'][4]\n",
    "    _min=row['data'][1]\n",
    "    _max=row['data'][2]\n",
    "    unit=row['data'][3]\n",
    "    age=row['data'][5]\n",
    "    method=row['data'][6]\n",
    "    comment=row['data'][7]\n",
    "    value=\"\"\n",
    "    for lab_row in lab_data['rows']:\n",
    "        \n",
    "        if(lab_row['data'][0]== row['data'][0] and lab_row['data'][1]==row['data'][4]):\n",
    "            value=lab_row['data'][2]\n",
    "        \n",
    "#     print(name ,\" \", value)   \n",
    "    metabolites.append([metabolite_id,name,specimen,_min,_max,unit,age,value,method,comment])\n",
    "print(metabolites)\n",
    "\n",
    "    "
   ]
  },
  {
   "cell_type": "code",
   "execution_count": null,
   "metadata": {},
   "outputs": [],
   "source": []
  }
 ],
 "metadata": {
  "kernelspec": {
   "display_name": "Python 3",
   "language": "python",
   "name": "python3"
  },
  "language_info": {
   "codemirror_mode": {
    "name": "ipython",
    "version": 3
   },
   "file_extension": ".py",
   "mimetype": "text/x-python",
   "name": "python",
   "nbconvert_exporter": "python",
   "pygments_lexer": "ipython3",
   "version": "3.8.3"
  }
 },
 "nbformat": 4,
 "nbformat_minor": 4
}
