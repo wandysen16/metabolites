{
 "cells": [
  {
   "cell_type": "code",
   "execution_count": 12,
   "metadata": {},
   "outputs": [
    {
     "name": "stdout",
     "output_type": "stream",
     "text": [
      "[[1736, 'cataract', 'EYES'], [3819, 'developmental delay', 'GENERAL TOPICS'], [2227, 'dysmorphism / dysmorphic features', 'HEAD'], [3916, 'episodic course (clinical symptoms)', 'GENERAL TOPICS'], [2095, 'failure to thrive', 'GASTROINTESTINAL SYSTEM | GENERAL TOPICS'], [1979, 'feeding difficulties, poor feeding', 'GASTROINTESTINAL SYSTEM | GASTROINTESTINAL SYSTEM'], [3970, 'gastroesophageal reflux / GER', 'GASTROINTESTINAL SYSTEM'], [1994, 'hepatomegaly (large liver)', 'GASTROINTESTINAL SYSTEM'], [1897, 'hypotonia', 'MUSCLES | NERVOUS SYSTEM'], [3197, 'lactic acidosis', 'LABORATORY FINDINGS'], [2424, 'mental retardation', 'NERVOUS SYSTEM'], [2065, 'metabolic acidosis', 'LABORATORY FINDINGS'], [1886, 'microcephaly (<2 SD for age)', 'HEAD'], [1941, 'motor retardation / motor developmental delay', 'NERVOUS SYSTEM'], [2507, 'onset, childhood / childhood', 'GENERAL TOPICS'], [2505, 'onset, infancy / infancy', 'GENERAL TOPICS'], [3680, 'psychomotor retardation', 'NERVOUS SYSTEM'], [1980, 'vomiting', 'GASTROINTESTINAL SYSTEM | GENERAL TOPICS']]\n"
     ]
    }
   ],
   "source": [
    "import requests \n",
    "from bs4 import BeautifulSoup as bs    \n",
    "import re\n",
    "import json\n",
    "\n",
    "\n",
    "\n",
    "get_symptoms=requests.get('https://www.metagene.de/v2020/symptoms.prg?act=getGridData&id_d=485&dhxr1605263478974=1')\n",
    "index=bs(get_symptoms.content)\n",
    "\n",
    "data=json.loads(get_symptoms.content)\n",
    "\n",
    "symptoms=[]\n",
    "for row in data['rows']:\n",
    "    id=row['id']\n",
    "    symptom_name=row['data'][0]\n",
    "    category=row['data'][1]\n",
    "    symptoms.append([id,symptom_name,category])\n",
    "print(symptoms)\n",
    "    \n",
    "    \n",
    "\n",
    "\n",
    "# print(raw[8:])"
   ]
  },
  {
   "cell_type": "code",
   "execution_count": null,
   "metadata": {},
   "outputs": [],
   "source": []
  }
 ],
 "metadata": {
  "kernelspec": {
   "display_name": "Python 3",
   "language": "python",
   "name": "python3"
  },
  "language_info": {
   "codemirror_mode": {
    "name": "ipython",
    "version": 3
   },
   "file_extension": ".py",
   "mimetype": "text/x-python",
   "name": "python",
   "nbconvert_exporter": "python",
   "pygments_lexer": "ipython3",
   "version": "3.8.3"
  }
 },
 "nbformat": 4,
 "nbformat_minor": 4
}
